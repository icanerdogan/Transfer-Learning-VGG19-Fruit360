{
  "nbformat": 4,
  "nbformat_minor": 0,
  "metadata": {
    "colab": {
      "name": "TRANSFER_LEARNING_FRUIT.ipynb",
      "provenance": []
    },
    "kernelspec": {
      "name": "python3",
      "display_name": "Python 3"
    },
    "accelerator": "GPU"
  },
  "cells": [
    {
      "cell_type": "code",
      "metadata": {
        "id": "cRcUTbLW_S0O"
      },
      "source": [
        "import keras\n",
        "from keras.models import Sequential\n",
        "from keras.layers import Dense, Flatten, Dropout\n",
        "from keras.preprocessing.image import load_img, img_to_array, ImageDataGenerator\n",
        "from keras.applications.vgg19 import VGG19\n",
        "from keras.callbacks import EarlyStopping, ModelCheckpoint\n",
        "from keras.utils import to_categorical\n",
        "from sklearn.model_selection import train_test_split\n",
        "from glob import glob"
      ],
      "execution_count": 3,
      "outputs": []
    },
    {
      "cell_type": "markdown",
      "metadata": {
        "id": "oIoMW-0SqYGy"
      },
      "source": [
        "## File Path"
      ]
    },
    {
      "cell_type": "code",
      "metadata": {
        "id": "wvIjAPn_AS52"
      },
      "source": [
        "train_path = 'Fruit/Training'\n",
        "test_path = 'Fruit/Test'"
      ],
      "execution_count": 4,
      "outputs": []
    },
    {
      "cell_type": "markdown",
      "metadata": {
        "id": "0S0-4JYQqbtq"
      },
      "source": [
        "## Image Dimension v Number Of Classes"
      ]
    },
    {
      "cell_type": "code",
      "metadata": {
        "id": "tQzZuQdtSIzY",
        "outputId": "2031b3c2-8bd9-481b-a080-c3be263df00b",
        "colab": {
          "base_uri": "https://localhost:8080/",
          "height": 35
        }
      },
      "source": [
        "img=load_img(train_path + \"/Apple Golden 1/1_100.jpg\")\n",
        "x=img_to_array(img)\n",
        "print(x.shape)"
      ],
      "execution_count": 5,
      "outputs": [
        {
          "output_type": "stream",
          "text": [
            "(100, 100, 3)\n"
          ],
          "name": "stdout"
        }
      ]
    },
    {
      "cell_type": "code",
      "metadata": {
        "id": "v81vthotSctM",
        "outputId": "9a2b9aef-a69b-4242-a3f6-6b478114ef12",
        "colab": {
          "base_uri": "https://localhost:8080/",
          "height": 35
        }
      },
      "source": [
        "className = glob(train_path +'/*')\n",
        "numberOfClass=len(className)\n",
        "print(\"Number Of Class: \", numberOfClass)"
      ],
      "execution_count": 6,
      "outputs": [
        {
          "output_type": "stream",
          "text": [
            "Number Of Class:  43\n"
          ],
          "name": "stdout"
        }
      ]
    },
    {
      "cell_type": "markdown",
      "metadata": {
        "id": "AvlMwpIbFPNN"
      },
      "source": [
        "## Data Augmentation"
      ]
    },
    {
      "cell_type": "code",
      "metadata": {
        "id": "iYISZ3U8Dy3v",
        "outputId": "b2325705-5289-4e6b-ae92-6f6b4045285d",
        "colab": {
          "base_uri": "https://localhost:8080/",
          "height": 52
        }
      },
      "source": [
        "batch_size = 128\n",
        "\n",
        "train_datagen=ImageDataGenerator(rescale=1./255,\n",
        "                   shear_range=0.3,\n",
        "                   horizontal_flip=True,\n",
        "                   zoom_range=0.3)\n",
        "\n",
        "test_datagen=ImageDataGenerator(rescale=1./255)     \n",
        "\n",
        "train_generator = train_datagen.flow_from_directory(train_path,\n",
        "                                                    target_size=(224,224),\n",
        "                                                    batch_size=batch_size,\n",
        "                                                    color_mode=\"rgb\",\n",
        "                                                    class_mode=\"categorical\")\n",
        "\n",
        "test_generator = test_datagen.flow_from_directory(test_path,\n",
        "                                                    target_size=(224,224),\n",
        "                                                    batch_size=batch_size,\n",
        "                                                    color_mode=\"rgb\",\n",
        "                                                    class_mode=\"categorical\")"
      ],
      "execution_count": 7,
      "outputs": [
        {
          "output_type": "stream",
          "text": [
            "Found 21387 images belonging to 43 classes.\n",
            "Found 7156 images belonging to 43 classes.\n"
          ],
          "name": "stdout"
        }
      ]
    },
    {
      "cell_type": "markdown",
      "metadata": {
        "id": "BXr73Y5GFXcm"
      },
      "source": [
        "## Model"
      ]
    },
    {
      "cell_type": "code",
      "metadata": {
        "id": "vhtCDroRAk0q"
      },
      "source": [
        "vgg19 = VGG19(include_top=False, weights=\"imagenet\", input_shape = (224, 224, 3))\n",
        "\n",
        "model = Sequential(vgg19.layers)\n",
        "\n",
        "model.add(Flatten())\n",
        "\n",
        "model.add(Dense(128, activation = 'relu'))\n",
        "\n",
        "model.add(Dropout(0.5))\n",
        "\n",
        "model.add(Dense(43, activation = 'softmax'))"
      ],
      "execution_count": 8,
      "outputs": []
    },
    {
      "cell_type": "markdown",
      "metadata": {
        "id": "I1G_A-T3Fc-h"
      },
      "source": [
        "## Early Stopping v Model Checkpoint"
      ]
    },
    {
      "cell_type": "code",
      "metadata": {
        "id": "bpQ364xdFTmm"
      },
      "source": [
        "model_checkpoint = ModelCheckpoint(\n",
        "    filepath='transfer_learning_fruit.h5',\n",
        "    save_weights_only=True,\n",
        "    monitor='val_accuracy',\n",
        "    mode='max',\n",
        "    save_best_only=True)\n",
        "\n",
        "early = EarlyStopping(\n",
        "    monitor=\"val_loss\",\n",
        "    min_delta=0,\n",
        "    patience=0,\n",
        "    verbose=0,\n",
        "    mode=\"auto\",\n",
        "    baseline=None,\n",
        "    restore_best_weights=False,\n",
        ")"
      ],
      "execution_count": 10,
      "outputs": []
    },
    {
      "cell_type": "markdown",
      "metadata": {
        "id": "CDN0aH7EFZFw"
      },
      "source": [
        "## Model Compile"
      ]
    },
    {
      "cell_type": "code",
      "metadata": {
        "id": "12XU9ehABbBT"
      },
      "source": [
        "model.compile(optimizer='adam',\n",
        "              loss='categorical_crossentropy',\n",
        "              metrics=['accuracy'])"
      ],
      "execution_count": 9,
      "outputs": []
    },
    {
      "cell_type": "markdown",
      "metadata": {
        "id": "xgOKPVMHFukr"
      },
      "source": [
        "## Model Fit"
      ]
    },
    {
      "cell_type": "code",
      "metadata": {
        "id": "-t9ekxqNE7C7"
      },
      "source": [
        "epochs = 2\n",
        "\n",
        "hist=model.fit_generator(generator = train_generator,\n",
        "                         epochs = epochs,\n",
        "                         validation_data = test_generator,\n",
        "                         callbacks=[early, model_checkpoint])"
      ],
      "execution_count": null,
      "outputs": []
    },
    {
      "cell_type": "markdown",
      "metadata": {
        "id": "DEzq-jjnecig"
      },
      "source": [
        "## Data Visualization"
      ]
    },
    {
      "cell_type": "code",
      "metadata": {
        "id": "LYE-YMnVe35J"
      },
      "source": [
        "\n",
        "plt.plot(hist.history[\"loss\"], label=\"Train Loss\")\n",
        "plt.plot(hist.history[\"val_loss\"], label=\"Validation Loss\")\n",
        "plt.legend()\n",
        "plt.show()\n",
        "\n",
        "plt.figure()\n",
        "\n",
        "plt.plot(hist.history[\"loss\"], label=\"Train Accuracy\")\n",
        "plt.plot(hist.history[\"val_accuracy\"], label=\"Validation Accuracy\")\n",
        "plt.legend()\n",
        "plt.show()"
      ],
      "execution_count": null,
      "outputs": []
    }
  ]
}